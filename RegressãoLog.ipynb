{
 "cells": [
  {
   "cell_type": "markdown",
   "metadata": {},
   "source": [
    "# Utilizando embeddings do BERTimbau como entrada em um modelo de regressão logística"
   ]
  },
  {
   "cell_type": "code",
   "execution_count": 8,
   "metadata": {},
   "outputs": [],
   "source": [
    "from transformers import AutoModel, AutoTokenizer\n",
    "import torch\n",
    "import pandas as pd\n",
    "from sklearn.linear_model import LogisticRegression\n",
    "import os"
   ]
  },
  {
   "cell_type": "code",
   "execution_count": 9,
   "metadata": {},
   "outputs": [],
   "source": [
    "#Importando o Modelo BERTimbau\n",
    "tokenizer = AutoTokenizer.from_pretrained(\"neuralmind/bert-base-portuguese-cased\")\n",
    "model = AutoModel.from_pretrained(\"neuralmind/bert-base-portuguese-cased\")"
   ]
  },
  {
   "cell_type": "code",
   "execution_count": 10,
   "metadata": {},
   "outputs": [],
   "source": [
    "def getEmbeddings(text, tokenizer, model):\n",
    "    inputs = tokenizer(text, return_tensors=\"pt\", truncation=True, padding=True, max_length=512)\n",
    "    with torch.no_grad():\n",
    "        outputs = model(**inputs)    \n",
    "    return outputs.last_hidden_state[:, 0, :].squeeze().numpy()"
   ]
  },
  {
   "cell_type": "code",
   "execution_count": 11,
   "metadata": {},
   "outputs": [],
   "source": [
    "def load_corpus_fakeBR():\n",
    "    base_path = \"fakebr/size_normalized_texts\"\n",
    "\n",
    "    fake_news = []\n",
    "    true_news = []\n",
    "    for root, dirs, files in os.walk(base_path + \"/fake\"):\n",
    "        for file in files:\n",
    "            if file.endswith('.txt'):\n",
    "                with open(os.path.join(root, file), 'r', encoding='utf-8') as f:\n",
    "                    text = f.read()\n",
    "                    fake_news.append([text, 0])\n",
    "\n",
    "    for root, dirs, files in os.walk(base_path + \"/true\"):\n",
    "        for file in files:\n",
    "            if file.endswith('.txt'):\n",
    "                with open(os.path.join(root, file), 'r', encoding='utf-8') as f:\n",
    "                    text = f.read()\n",
    "                    true_news.append([text, 1])\n",
    "\n",
    "\n",
    "    all_news = fake_news + true_news\n",
    "    return pd.DataFrame(all_news, columns=['text', 'label'])"
   ]
  },
  {
   "cell_type": "code",
   "execution_count": 12,
   "metadata": {},
   "outputs": [
    {
     "data": {
      "text/html": [
       "<div>\n",
       "<style scoped>\n",
       "    .dataframe tbody tr th:only-of-type {\n",
       "        vertical-align: middle;\n",
       "    }\n",
       "\n",
       "    .dataframe tbody tr th {\n",
       "        vertical-align: top;\n",
       "    }\n",
       "\n",
       "    .dataframe thead th {\n",
       "        text-align: right;\n",
       "    }\n",
       "</style>\n",
       "<table border=\"1\" class=\"dataframe\">\n",
       "  <thead>\n",
       "    <tr style=\"text-align: right;\">\n",
       "      <th></th>\n",
       "      <th>text</th>\n",
       "      <th>label</th>\n",
       "    </tr>\n",
       "  </thead>\n",
       "  <tbody>\n",
       "    <tr>\n",
       "      <th>0</th>\n",
       "      <td>Kátia Abreu diz que vai colocar sua expulsão e...</td>\n",
       "      <td>0</td>\n",
       "    </tr>\n",
       "    <tr>\n",
       "      <th>1</th>\n",
       "      <td>Dr. Ray peita Bolsonaro, chama-o de “conservad...</td>\n",
       "      <td>0</td>\n",
       "    </tr>\n",
       "    <tr>\n",
       "      <th>2</th>\n",
       "      <td>Reinaldo Azevedo desmascarado pela Polícia Fed...</td>\n",
       "      <td>0</td>\n",
       "    </tr>\n",
       "    <tr>\n",
       "      <th>3</th>\n",
       "      <td>Relatório assustador do BNDES mostra dinheiro ...</td>\n",
       "      <td>0</td>\n",
       "    </tr>\n",
       "    <tr>\n",
       "      <th>4</th>\n",
       "      <td>Radialista americano fala sobre o PT: \"Eles ve...</td>\n",
       "      <td>0</td>\n",
       "    </tr>\n",
       "  </tbody>\n",
       "</table>\n",
       "</div>"
      ],
      "text/plain": [
       "                                                text  label\n",
       "0  Kátia Abreu diz que vai colocar sua expulsão e...      0\n",
       "1  Dr. Ray peita Bolsonaro, chama-o de “conservad...      0\n",
       "2  Reinaldo Azevedo desmascarado pela Polícia Fed...      0\n",
       "3  Relatório assustador do BNDES mostra dinheiro ...      0\n",
       "4  Radialista americano fala sobre o PT: \"Eles ve...      0"
      ]
     },
     "execution_count": 12,
     "metadata": {},
     "output_type": "execute_result"
    }
   ],
   "source": [
    "df = load_corpus_fakeBR()\n",
    "df.head()"
   ]
  },
  {
   "cell_type": "code",
   "execution_count": 13,
   "metadata": {},
   "outputs": [],
   "source": [
    "embeddings = [getEmbeddings(text, tokenizer, model) for text in df['text']]"
   ]
  },
  {
   "cell_type": "code",
   "execution_count": 14,
   "metadata": {},
   "outputs": [],
   "source": [
    "from sklearn.metrics import accuracy_score, precision_score, recall_score, f1_score\n",
    "from sklearn.model_selection import KFold, cross_val_predict\n",
    "import numpy as np"
   ]
  },
  {
   "cell_type": "code",
   "execution_count": 15,
   "metadata": {},
   "outputs": [],
   "source": [
    "kfolds = KFold(n_splits=5, shuffle=True, random_state=42)\n",
    "\n",
    "logModel = LogisticRegression(max_iter=1000)"
   ]
  },
  {
   "cell_type": "code",
   "execution_count": 17,
   "metadata": {},
   "outputs": [],
   "source": [
    "accuracies, precisions, recalls, f1_scores, macro_f1s = [], [], [], [], []\n",
    "\n",
    "for train_index, test_index in kfolds.split(embeddings):\n",
    "    x_train, x_test = np.array(embeddings)[train_index], np.array(embeddings)[test_index]\n",
    "    y_train, y_test = np.array(df['label'])[train_index], np.array(df['label'])[test_index]\n",
    "    logModel.fit(x_train, y_train)\n",
    "    y_pred = logModel.predict(x_test)\n",
    "    accuracy = accuracy_score(y_test, y_pred)\n",
    "    precision = precision_score(y_test, y_pred, average='binary')  # Para classificação binária\n",
    "    recall = recall_score(y_test, y_pred, average='binary')  # Para classificação binária\n",
    "    f1 = f1_score(y_test, y_pred, average='binary')  # Para classificação binária\n",
    "    macro_f1 = f1_score(y_test, y_pred, average='macro')\n",
    "    accuracies.append(accuracy)\n",
    "    precisions.append(precision)\n",
    "    recalls.append(recall)\n",
    "    f1_scores.append(f1)\n",
    "    macro_f1s.append(macro_f1)"
   ]
  },
  {
   "cell_type": "code",
   "execution_count": 21,
   "metadata": {},
   "outputs": [],
   "source": [
    "# Criar um DataFrame com os resultados\n",
    "results = pd.DataFrame({\n",
    "    'accuracy': [np.mean(accuracies)],\n",
    "    'precision': [np.mean(precisions)],\n",
    "    'recall': [np.mean(recalls)],\n",
    "    'f1': [np.mean(f1_scores)],\n",
    "    'macro_f1': [np.mean(macro_f1s)]\n",
    "})\n",
    "\n",
    "# Salvar o DataFrame em um arquivo CSV\n",
    "results.to_csv(\"logistic_results.csv\", index=False)\n"
   ]
  },
  {
   "cell_type": "code",
   "execution_count": 22,
   "metadata": {},
   "outputs": [
    {
     "data": {
      "text/html": [
       "<div>\n",
       "<style scoped>\n",
       "    .dataframe tbody tr th:only-of-type {\n",
       "        vertical-align: middle;\n",
       "    }\n",
       "\n",
       "    .dataframe tbody tr th {\n",
       "        vertical-align: top;\n",
       "    }\n",
       "\n",
       "    .dataframe thead th {\n",
       "        text-align: right;\n",
       "    }\n",
       "</style>\n",
       "<table border=\"1\" class=\"dataframe\">\n",
       "  <thead>\n",
       "    <tr style=\"text-align: right;\">\n",
       "      <th></th>\n",
       "      <th>accuracy</th>\n",
       "      <th>precision</th>\n",
       "      <th>recall</th>\n",
       "      <th>f1</th>\n",
       "      <th>macro_f1</th>\n",
       "    </tr>\n",
       "  </thead>\n",
       "  <tbody>\n",
       "    <tr>\n",
       "      <th>0</th>\n",
       "      <td>0.968333</td>\n",
       "      <td>0.967285</td>\n",
       "      <td>0.969503</td>\n",
       "      <td>0.968386</td>\n",
       "      <td>0.968326</td>\n",
       "    </tr>\n",
       "  </tbody>\n",
       "</table>\n",
       "</div>"
      ],
      "text/plain": [
       "   accuracy  precision    recall        f1  macro_f1\n",
       "0  0.968333   0.967285  0.969503  0.968386  0.968326"
      ]
     },
     "execution_count": 22,
     "metadata": {},
     "output_type": "execute_result"
    }
   ],
   "source": [
    "results"
   ]
  },
  {
   "cell_type": "markdown",
   "metadata": {},
   "source": [
    "# Testing"
   ]
  },
  {
   "cell_type": "code",
   "execution_count": 40,
   "metadata": {},
   "outputs": [
    {
     "name": "stdout",
     "output_type": "stream",
     "text": [
      "[0 1 1 0]\n"
     ]
    }
   ],
   "source": [
    "news = [\"China é um veneno mundial!\", \"Vacinas salvam vidas\", \"Bolsonarismo representa a volta do terror\", \"Lula é ladrão\"]\n",
    "news_embeddings = np.array([getEmbeddings(text, tokenizer, model) for text in news])\n",
    "pred = logModel.predict(news_embeddings)\n",
    "print(pred)"
   ]
  },
  {
   "cell_type": "code",
   "execution_count": 41,
   "metadata": {},
   "outputs": [
    {
     "data": {
      "text/plain": [
       "['logistic_model.joblib']"
      ]
     },
     "execution_count": 41,
     "metadata": {},
     "output_type": "execute_result"
    }
   ],
   "source": [
    "from joblib import dump\n",
    "\n",
    "dump(logModel,  'logistic_model.joblib') #Salva o modelo"
   ]
  },
  {
   "cell_type": "code",
   "execution_count": 42,
   "metadata": {},
   "outputs": [
    {
     "name": "stdout",
     "output_type": "stream",
     "text": [
      "[0 1 1 0]\n"
     ]
    }
   ],
   "source": [
    "from joblib import load\n",
    "\n",
    "loaded_model = load('logistic_model.joblib')\n",
    "pred_load = loaded_model.predict(news_embeddings)\n",
    "print(pred_load)"
   ]
  }
 ],
 "metadata": {
  "kernelspec": {
   "display_name": "Python 3",
   "language": "python",
   "name": "python3"
  },
  "language_info": {
   "codemirror_mode": {
    "name": "ipython",
    "version": 3
   },
   "file_extension": ".py",
   "mimetype": "text/x-python",
   "name": "python",
   "nbconvert_exporter": "python",
   "pygments_lexer": "ipython3",
   "version": "3.12.4"
  }
 },
 "nbformat": 4,
 "nbformat_minor": 2
}
