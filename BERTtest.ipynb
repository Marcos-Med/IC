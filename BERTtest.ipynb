{
 "cells": [
  {
   "cell_type": "code",
   "execution_count": 1,
   "metadata": {},
   "outputs": [],
   "source": [
    "from transformers import AutoTokenizer, AutoModelForSequenceClassification"
   ]
  },
  {
   "cell_type": "code",
   "execution_count": 2,
   "metadata": {},
   "outputs": [],
   "source": [
    "tokenizer_path = \"./tokenizer_BERTimbau\"\n",
    "model_path = \"./model_BERTimbau\""
   ]
  },
  {
   "cell_type": "code",
   "execution_count": 3,
   "metadata": {},
   "outputs": [],
   "source": [
    "tokenizer = AutoTokenizer.from_pretrained(tokenizer_path)\n",
    "model = AutoModelForSequenceClassification.from_pretrained(model_path)"
   ]
  },
  {
   "cell_type": "code",
   "execution_count": 56,
   "metadata": {},
   "outputs": [],
   "source": [
    "example = [\"Em uma reviravolta impressionante, cientistas da NASA teriam encontrado sinais claros de vida inteligente em Marte. Fontes não oficiais afirmam que durante uma missão secreta em 2023, um rover especial captou mensagens em formato de códigos luminosos que seriam emitidas de uma estrutura subterrânea marciana.Relatórios vazados sugerem que os sinais indicam a presença de uma civilização avançada, com conhecimento superior em engenharia e comunicação interestelar. “Estamos lidando com algo extraordinário, e o mundo não está pronto para essa revelação”, disse um suposto funcionário da NASA, que pediu anonimato.A notícia está causando uma onda de especulações nas redes sociais, com teóricos da conspiração e entusiastas de OVNIs celebrando a descoberta como uma vitória para suas hipóteses.\"]"
   ]
  },
  {
   "cell_type": "code",
   "execution_count": 57,
   "metadata": {},
   "outputs": [],
   "source": [
    "inputs = tokenizer(example, return_tensors=\"pt\", padding=True, truncation=True, max_length=512)"
   ]
  },
  {
   "cell_type": "code",
   "execution_count": 58,
   "metadata": {},
   "outputs": [],
   "source": [
    "import torch"
   ]
  },
  {
   "cell_type": "code",
   "execution_count": 59,
   "metadata": {},
   "outputs": [],
   "source": [
    "outputs = model(**inputs)\n",
    "logits = outputs.logits"
   ]
  },
  {
   "cell_type": "code",
   "execution_count": 60,
   "metadata": {},
   "outputs": [
    {
     "name": "stdout",
     "output_type": "stream",
     "text": [
      "Probabilidades: tensor([[9.9948e-01, 5.2410e-04]], grad_fn=<SoftmaxBackward0>)\n",
      "Previsões: tensor([0])\n"
     ]
    }
   ],
   "source": [
    "# Aplicar softmax para obter as probabilidades\n",
    "probabilidades = torch.nn.functional.softmax(logits, dim=-1)\n",
    "\n",
    "# Classe com maior probabilidade\n",
    "previsoes = torch.argmax(probabilidades, dim=-1)\n",
    "\n",
    "print(\"Probabilidades:\", probabilidades)\n",
    "print(\"Previsões:\", previsoes)"
   ]
  }
 ],
 "metadata": {
  "kernelspec": {
   "display_name": "Python 3",
   "language": "python",
   "name": "python3"
  },
  "language_info": {
   "codemirror_mode": {
    "name": "ipython",
    "version": 3
   },
   "file_extension": ".py",
   "mimetype": "text/x-python",
   "name": "python",
   "nbconvert_exporter": "python",
   "pygments_lexer": "ipython3",
   "version": "3.12.4"
  }
 },
 "nbformat": 4,
 "nbformat_minor": 2
}
